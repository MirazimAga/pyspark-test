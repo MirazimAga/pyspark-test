{
 "cells": [
  {
   "cell_type": "markdown",
   "id": "d09e4636",
   "metadata": {},
   "source": [
    "# Пример работы с продуктами и категориями в PySpark"
   ]
  },
  {
   "cell_type": "code",
   "execution_count": null,
   "id": "f59419d3",
   "metadata": {},
   "outputs": [],
   "source": [
    "import os\n",
    "\n",
    "# Указываем путь к установленной Java (замени на свой путь, если он другой)\n",
    "os.environ[\"JAVA_HOME\"] = \"C:/Program Files/Java/jdk-17\"\n",
    "os.environ[\"PATH\"] = os.environ[\"JAVA_HOME\"] + \"/bin;\" + os.environ[\"PATH\"]\n",
    "\n",
    "# Импортируем PySpark\n",
    "from pyspark.sql import SparkSession\n",
    "from pyspark.sql.functions import col\n",
    "\n",
    "# Создаём Spark-сессию\n",
    "spark = SparkSession.builder \\\n",
    "    .appName(\"TestTask\") \\\n",
    "    .getOrCreate()\n",
    "\n",
    "# Данные продуктов\n",
    "products_data = [\n",
    "    (1, \"Молоко\"),\n",
    "    (2, \"Сыр\"),\n",
    "    (3, \"Хлеб\"),\n",
    "    (4, \"Яйца\")\n",
    "]\n",
    "\n",
    "# Данные категорий\n",
    "categories_data = [\n",
    "    (1, \"Молочные\"),\n",
    "    (2, \"Выпечка\"),\n",
    "    (3, \"Яйца\")\n",
    "]\n",
    "\n",
    "# Соответствие продуктов и категорий\n",
    "product_categories_data = [\n",
    "    (1, 1),  # Молоко -> Молочные\n",
    "    (3, 2),  # Хлеб -> Выпечка\n",
    "    (4, 3)   # Яйца -> Яйца\n",
    "]\n",
    "\n",
    "# Создаём датафреймы PySpark\n",
    "products = spark.createDataFrame(products_data, [\"product_id\", \"product_name\"])\n",
    "categories = spark.createDataFrame(categories_data, [\"category_id\", \"category_name\"])\n",
    "product_categories = spark.createDataFrame(product_categories_data, [\"product_id\", \"category_id\"])\n",
    "\n",
    "# Выполняем join с правильным переносом строк\n",
    "df = (\n",
    "    products.join(product_categories, on=\"product_id\", how=\"left\")\n",
    "            .join(categories, on=\"category_id\", how=\"left\")\n",
    "            .select(\"product_name\", \"category_name\")\n",
    ")\n",
    "\n",
    "# Показываем результат\n",
    "df.show()"
   ]
  },
  {
   "cell_type": "code",
   "execution_count": null,
   "id": "fd7ced3a-fdd0-493b-a6c6-50d7fe2cfdb8",
   "metadata": {},
   "outputs": [],
   "source": []
  }
 ],
 "metadata": {
  "kernelspec": {
   "display_name": "Python 3 (ipykernel)",
   "language": "python",
   "name": "python3"
  },
  "language_info": {
   "codemirror_mode": {
    "name": "ipython",
    "version": 3
   },
   "file_extension": ".py",
   "mimetype": "text/x-python",
   "name": "python",
   "nbconvert_exporter": "python",
   "pygments_lexer": "ipython3",
   "version": "3.12.3"
  }
 },
 "nbformat": 4,
 "nbformat_minor": 5
}
